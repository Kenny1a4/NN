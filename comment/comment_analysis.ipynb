{
 "cells": [
  {
   "cell_type": "code",
   "execution_count": 12,
   "id": "252b5f1c",
   "metadata": {},
   "outputs": [],
   "source": [
    "import tensorflow as tf\n",
    "from tensorflow import keras\n",
    "from tensorflow.keras import layers\n",
    "import pandas as pd\n",
    "import numpy as np\n",
    "from datasets import load_dataset\n",
    "from sklearn.model_selection import train_test_split"
   ]
  },
  {
   "cell_type": "code",
   "execution_count": 13,
   "id": "fe77eb99",
   "metadata": {},
   "outputs": [],
   "source": [
    "# Як приклад — спершу вручну скачай CSV з частиною Amazon dataset (наприклад, 1M reviews)\n",
    "# Наприклад, https://path_to_your_amazon_reviews_subset.csv\n",
    "# Завантажуємо датасет Amazon Polarity (містить позитивні/негативні відгуки)\n",
    "ds = load_dataset(\"amazon_polarity\")\n",
    "\n",
    "# Беремо тільки \"content\" (текст відгуку) та \"label\" (0=негатив, 1=позитив)\n",
    "texts  = ds[\"train\"][\"content\"][:200_000]\n",
    "labels = ds[\"train\"][\"label\"][:200_000]\n",
    "\n",
    "# Розподіл на train/test (20% на тест)\n",
    "X_train, X_test, y_train, y_test = train_test_split(texts, labels, test_size=0.2, random_state=42)\n"
   ]
  },
  {
   "cell_type": "code",
   "execution_count": 14,
   "id": "25cba091",
   "metadata": {},
   "outputs": [],
   "source": [
    "\n",
    "\n",
    "# Параметри\n",
    "max_words = 30000\n",
    "max_len   = 200\n",
    "embed_dim = 64"
   ]
  },
  {
   "cell_type": "code",
   "execution_count": 15,
   "id": "c5069f9b",
   "metadata": {},
   "outputs": [],
   "source": [
    "# Векторизатор\n",
    "vectorizer = layers.TextVectorization(\n",
    "    max_tokens=max_words,\n",
    "    output_mode='int',\n",
    "    output_sequence_length=max_len\n",
    ")\n",
    "vectorizer.adapt(X_train)"
   ]
  },
  {
   "cell_type": "code",
   "execution_count": 16,
   "id": "1127d8e7",
   "metadata": {},
   "outputs": [],
   "source": [
    "# Модель\n",
    "model = keras.Sequential([\n",
    "    vectorizer,\n",
    "    layers.Embedding(max_words, embed_dim, mask_zero=True),\n",
    "    layers.Bidirectional(layers.LSTM(128, dropout=0.2, return_sequences=True)),\n",
    "    layers.GlobalMaxPooling1D(),\n",
    "    layers.Dense(64, activation='relu'),\n",
    "    layers.Dropout(0.5),\n",
    "    layers.Dense(1, activation='sigmoid')\n",
    "])\n",
    "\n",
    "model.compile(loss='binary_crossentropy', \n",
    "              optimizer='adam', \n",
    "              metrics=['accuracy'])\n",
    "# model.summary()"
   ]
  },
  {
   "cell_type": "code",
   "execution_count": 17,
   "id": "b3451505",
   "metadata": {},
   "outputs": [],
   "source": [
    "# Датасети tf.data\n",
    "BATCH = 512\n",
    "train_ds = tf.data.Dataset.from_tensor_slices((X_train, y_train)).shuffle(20000).batch(BATCH).prefetch(tf.data.AUTOTUNE)\n",
    "test_ds  = tf.data.Dataset.from_tensor_slices((X_test, y_test)).batch(BATCH).prefetch(tf.data.AUTOTUNE)\n"
   ]
  },
  {
   "cell_type": "code",
   "execution_count": 18,
   "id": "59861635",
   "metadata": {},
   "outputs": [
    {
     "name": "stdout",
     "output_type": "stream",
     "text": [
      "Epoch 1/5\n"
     ]
    },
    {
     "name": "stderr",
     "output_type": "stream",
     "text": [
      "c:\\Users\\vlaad\\anaconda3\\Lib\\site-packages\\keras\\src\\layers\\layer.py:970: UserWarning: Layer 'global_max_pooling1d_1' (of type GlobalMaxPooling1D) was passed an input with a mask attached to it. However, this layer does not support masking and will therefore destroy the mask information. Downstream layers will not see the mask.\n",
      "  warnings.warn(\n"
     ]
    },
    {
     "name": "stdout",
     "output_type": "stream",
     "text": [
      "\u001b[1m313/313\u001b[0m \u001b[32m━━━━━━━━━━━━━━━━━━━━\u001b[0m\u001b[37m\u001b[0m \u001b[1m578s\u001b[0m 2s/step - accuracy: 0.8338 - loss: 0.3776 - val_accuracy: 0.8791 - val_loss: 0.2907\n",
      "Epoch 2/5\n",
      "\u001b[1m313/313\u001b[0m \u001b[32m━━━━━━━━━━━━━━━━━━━━\u001b[0m\u001b[37m\u001b[0m \u001b[1m528s\u001b[0m 2s/step - accuracy: 0.9022 - loss: 0.2491 - val_accuracy: 0.8925 - val_loss: 0.2598\n",
      "Epoch 3/5\n",
      "\u001b[1m313/313\u001b[0m \u001b[32m━━━━━━━━━━━━━━━━━━━━\u001b[0m\u001b[37m\u001b[0m \u001b[1m493s\u001b[0m 2s/step - accuracy: 0.9265 - loss: 0.1960 - val_accuracy: 0.8959 - val_loss: 0.2650\n",
      "Epoch 4/5\n",
      "\u001b[1m313/313\u001b[0m \u001b[32m━━━━━━━━━━━━━━━━━━━━\u001b[0m\u001b[37m\u001b[0m \u001b[1m34514s\u001b[0m 111s/step - accuracy: 0.9443 - loss: 0.1559 - val_accuracy: 0.8943 - val_loss: 0.2838\n",
      "Epoch 5/5\n",
      "\u001b[1m313/313\u001b[0m \u001b[32m━━━━━━━━━━━━━━━━━━━━\u001b[0m\u001b[37m\u001b[0m \u001b[1m483s\u001b[0m 2s/step - accuracy: 0.9566 - loss: 0.1262 - val_accuracy: 0.8917 - val_loss: 0.3322\n"
     ]
    }
   ],
   "source": [
    "# Training з verbose=1 (прогрес-бар)\n",
    "history = model.fit(train_ds, \n",
    "                    validation_data=test_ds, \n",
    "                    epochs=5, \n",
    "                    verbose=1)\n"
   ]
  },
  {
   "cell_type": "code",
   "execution_count": 19,
   "id": "44620c97",
   "metadata": {},
   "outputs": [
    {
     "name": "stdout",
     "output_type": "stream",
     "text": [
      "\u001b[1m79/79\u001b[0m \u001b[32m━━━━━━━━━━━━━━━━━━━━\u001b[0m\u001b[37m\u001b[0m \u001b[1m45s\u001b[0m 574ms/step - accuracy: 0.8917 - loss: 0.3322\n",
      "Test loss: 0.3322, Test accuracy: 0.8917\n"
     ]
    }
   ],
   "source": [
    "# Оцінювання\n",
    "test_loss, test_acc = model.evaluate(test_ds, verbose=1)\n",
    "print(f\"Test loss: {test_loss:.4f}, Test accuracy: {test_acc:.4f}\")"
   ]
  },
  {
   "cell_type": "code",
   "execution_count": 30,
   "id": "b8f685ad",
   "metadata": {},
   "outputs": [],
   "source": [
    "def predict_texts(texts):\n",
    "    if isinstance(texts, str):\n",
    "        texts = [texts]\n",
    "    tensor = tf.constant(texts, dtype=tf.string)\n",
    "    proba = model.predict(tensor, verbose=0)\n",
    "    \n",
    "    for t, p in zip(texts, proba):\n",
    "        prediction = float(p)\n",
    "        if prediction > 0.5:\n",
    "            print(f\"Відгук позитивний 🙂 (ймовірність {prediction:.2f})\")\n",
    "        else:\n",
    "            print(f\"Відгук негативний 🙁 (ймовірність {1-prediction:.2f})\")\n"
   ]
  },
  {
   "cell_type": "code",
   "execution_count": 33,
   "id": "2bbd6d24",
   "metadata": {},
   "outputs": [
    {
     "name": "stderr",
     "output_type": "stream",
     "text": [
      "c:\\Users\\vlaad\\anaconda3\\Lib\\site-packages\\keras\\src\\layers\\layer.py:970: UserWarning: Layer 'global_max_pooling1d_1' (of type GlobalMaxPooling1D) was passed an input with a mask attached to it. However, this layer does not support masking and will therefore destroy the mask information. Downstream layers will not see the mask.\n",
      "  warnings.warn(\n"
     ]
    },
    {
     "name": "stdout",
     "output_type": "stream",
     "text": [
      "Відгук позитивний 🙂 (ймовірність 0.94)\n",
      "Відгук негативний 🙁 (ймовірність 0.97)\n",
      "Відгук негативний 🙁 (ймовірність 1.00)\n",
      "Відгук позитивний 🙂 (ймовірність 0.99)\n"
     ]
    },
    {
     "name": "stderr",
     "output_type": "stream",
     "text": [
      "C:\\Users\\vlaad\\AppData\\Local\\Temp\\ipykernel_3704\\1597481232.py:8: DeprecationWarning: Conversion of an array with ndim > 0 to a scalar is deprecated, and will error in future. Ensure you extract a single element from your array before performing this operation. (Deprecated NumPy 1.25.)\n",
      "  prediction = float(p)\n"
     ]
    }
   ],
   "source": [
    "predict_texts([\n",
    "    \"the movie was very interesting, exciting\",\n",
    "    \"the film is not interesting\",\n",
    "     \"Terrible product, stopped working after two uses\",\n",
    "    \"Amazing build quality and super comfortable!\"\n",
    "])\n",
    "\n"
   ]
  },
  {
   "cell_type": "code",
   "execution_count": null,
   "id": "77289319",
   "metadata": {},
   "outputs": [],
   "source": []
  },
  {
   "cell_type": "code",
   "execution_count": null,
   "id": "29d79222",
   "metadata": {},
   "outputs": [],
   "source": []
  },
  {
   "cell_type": "code",
   "execution_count": null,
   "id": "44773ec4",
   "metadata": {},
   "outputs": [],
   "source": []
  }
 ],
 "metadata": {
  "kernelspec": {
   "display_name": "base",
   "language": "python",
   "name": "python3"
  },
  "language_info": {
   "codemirror_mode": {
    "name": "ipython",
    "version": 3
   },
   "file_extension": ".py",
   "mimetype": "text/x-python",
   "name": "python",
   "nbconvert_exporter": "python",
   "pygments_lexer": "ipython3",
   "version": "3.13.5"
  }
 },
 "nbformat": 4,
 "nbformat_minor": 5
}
